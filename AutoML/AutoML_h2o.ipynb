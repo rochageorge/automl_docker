{
 "cells": [
  {
   "cell_type": "code",
   "execution_count": 22,
   "metadata": {
    "application/vnd.databricks.v1+cell": {
     "inputWidgets": {},
     "nuid": "d95cec7f-6489-4752-b859-8642dec48f3a",
     "showTitle": false,
     "title": ""
    }
   },
   "outputs": [],
   "source": [
    "# !pip install h2o"
   ]
  },
  {
   "cell_type": "code",
   "execution_count": 23,
   "metadata": {
    "application/vnd.databricks.v1+cell": {
     "inputWidgets": {},
     "nuid": "31257572-c799-460a-b6d1-2d6f5ed8bf62",
     "showTitle": false,
     "title": ""
    }
   },
   "outputs": [],
   "source": [
    "import pandas as pd\n",
    "\n",
    "import h2o\n",
    "from h2o.automl import H2OAutoML\n",
    "\n",
    "import json\n",
    "import os\n",
    "import re"
   ]
  },
  {
   "cell_type": "code",
   "execution_count": 24,
   "metadata": {
    "application/vnd.databricks.v1+cell": {
     "inputWidgets": {},
     "nuid": "01089bb0-2af6-49ba-b8ce-1f865f1bab86",
     "showTitle": true,
     "title": "Variables"
    }
   },
   "outputs": [],
   "source": [
    "'''\n",
    "Para executar o autoML, favor alterar os campos source_path, saving_path com os diretórios onde os \n",
    "dados de origem para treinamento e o lugar onde serão salvos os modelos treinados, alterar o target com a \n",
    "coluna que se tem como objetivo. O exclude_algos são os algoritmos que serão excluidos do treinamento, \n",
    "acima do mesmo encontra-se a lista de algoritmos disponíveis para o h2o. Max models é o numero máximo de modelos \n",
    "que serão treinados e comparados, seed para auxiliar na reprodução dos treinamentos, max_training_time é\n",
    "o tempo máximo para treinamento e classification é para selecionar se é um treinamento de classificação ou reressão.\n",
    "O treinamento para classificação não fora concluído, apenas o de regressão.\n",
    "'''\n",
    "\n",
    "source_path = 'https://s3model.blob.core.windows.net/prodata/merged_data.csv'\n",    
    "saving_path = 'https://s3model.blob.core.windows.net/modeldata/'\n",
    "\n",
    "target = 'average_ticket'\n",
    "\n",
    "# Available algorithms: ['DRF', 'GLM', 'XGBoost', 'GBM', 'DeepLearning', 'StackedEnsemble']\n",
    "exclude_algos = [\"DeepLearning\"]\n",
    "\n",
    "max_models = 5\n",
    "seed = 23\n",
    "max_training_time = 60\n",
    "classification = False "
   ]
  },
  {
   "cell_type": "code",
   "execution_count": 25,
   "metadata": {
    "application/vnd.databricks.v1+cell": {
     "inputWidgets": {},
     "nuid": "8ddb695d-64e6-4d2f-b473-a8380756b08f",
     "showTitle": false,
     "title": ""
    }
   },
   "outputs": [
    {
     "name": "stdout",
     "output_type": "stream",
     "text": [
      "Checking whether there is an H2O instance running at http://localhost:54321 . connected.\n"
     ]
    },
    {
     "data": {
      "text/html": [
       "<div style=\"overflow:auto\"><table style=\"width:50%\"><tr><td>H2O_cluster_uptime:</td>\n",
       "<td>1 hour 21 mins</td></tr>\n",
       "<tr><td>H2O_cluster_timezone:</td>\n",
       "<td>America/Sao_Paulo</td></tr>\n",
       "<tr><td>H2O_data_parsing_timezone:</td>\n",
       "<td>UTC</td></tr>\n",
       "<tr><td>H2O_cluster_version:</td>\n",
       "<td>3.34.0.7</td></tr>\n",
       "<tr><td>H2O_cluster_version_age:</td>\n",
       "<td>28 days, 5 hours and 24 minutes </td></tr>\n",
       "<tr><td>H2O_cluster_name:</td>\n",
       "<td>H2O_from_python_hobbes_y4kzmu</td></tr>\n",
       "<tr><td>H2O_cluster_total_nodes:</td>\n",
       "<td>1</td></tr>\n",
       "<tr><td>H2O_cluster_free_memory:</td>\n",
       "<td>1.519 Gb</td></tr>\n",
       "<tr><td>H2O_cluster_total_cores:</td>\n",
       "<td>4</td></tr>\n",
       "<tr><td>H2O_cluster_allowed_cores:</td>\n",
       "<td>4</td></tr>\n",
       "<tr><td>H2O_cluster_status:</td>\n",
       "<td>locked, healthy</td></tr>\n",
       "<tr><td>H2O_connection_url:</td>\n",
       "<td>http://localhost:54321</td></tr>\n",
       "<tr><td>H2O_connection_proxy:</td>\n",
       "<td>{\"http\": null, \"https\": null}</td></tr>\n",
       "<tr><td>H2O_internal_security:</td>\n",
       "<td>False</td></tr>\n",
       "<tr><td>H2O_API_Extensions:</td>\n",
       "<td>Amazon S3, XGBoost, Algos, AutoML, Core V3, TargetEncoder, Core V4</td></tr>\n",
       "<tr><td>Python_version:</td>\n",
       "<td>3.7.12 final</td></tr></table></div>"
      ],
      "text/plain": [
       "--------------------------  ------------------------------------------------------------------\n",
       "H2O_cluster_uptime:         1 hour 21 mins\n",
       "H2O_cluster_timezone:       America/Sao_Paulo\n",
       "H2O_data_parsing_timezone:  UTC\n",
       "H2O_cluster_version:        3.34.0.7\n",
       "H2O_cluster_version_age:    28 days, 5 hours and 24 minutes\n",
       "H2O_cluster_name:           H2O_from_python_hobbes_y4kzmu\n",
       "H2O_cluster_total_nodes:    1\n",
       "H2O_cluster_free_memory:    1.519 Gb\n",
       "H2O_cluster_total_cores:    4\n",
       "H2O_cluster_allowed_cores:  4\n",
       "H2O_cluster_status:         locked, healthy\n",
       "H2O_connection_url:         http://localhost:54321\n",
       "H2O_connection_proxy:       {\"http\": null, \"https\": null}\n",
       "H2O_internal_security:      False\n",
       "H2O_API_Extensions:         Amazon S3, XGBoost, Algos, AutoML, Core V3, TargetEncoder, Core V4\n",
       "Python_version:             3.7.12 final\n",
       "--------------------------  ------------------------------------------------------------------"
      ]
     },
     "metadata": {},
     "output_type": "display_data"
    }
   ],
   "source": [
    "h2o.init()"
   ]
  },
  {
   "cell_type": "code",
   "execution_count": 26,
   "metadata": {
    "application/vnd.databricks.v1+cell": {
     "inputWidgets": {},
     "nuid": "a830debb-6015-4748-a718-fd42561e74d7",
     "showTitle": true,
     "title": "Data Preparation"
    }
   },
   "outputs": [
    {
     "name": "stdout",
     "output_type": "stream",
     "text": [
      "Parse progress: |████████████████████████████████████████████████████████████████| (done) 100%\n"
     ]
    }
   ],
   "source": [
    "df = h2o.import_file(path=source_path)"
   ]
  },
  {
   "cell_type": "code",
   "execution_count": 27,
   "metadata": {
    "application/vnd.databricks.v1+cell": {
     "inputWidgets": {},
     "nuid": "fa309e5d-3162-4aa8-a0fd-450109bba669",
     "showTitle": false,
     "title": ""
    }
   },
   "outputs": [],
   "source": [
    "train, test = df.split_frame(ratios=[0.8], seed = seed)"
   ]
  },
  {
   "cell_type": "code",
   "execution_count": 28,
   "metadata": {
    "application/vnd.databricks.v1+cell": {
     "inputWidgets": {},
     "nuid": "68d9fd2e-4bae-45bd-86e5-ffb627bee6de",
     "showTitle": true,
     "title": "Train AutoML Models"
    }
   },
   "outputs": [],
   "source": [
    "# include_algos = ['xgboost']\n",
    "aml = H2OAutoML(max_models = max_models, max_runtime_secs = max_training_time, exclude_algos = exclude_algos, balance_classes=True, seed = seed)"
   ]
  },
  {
   "cell_type": "code",
   "execution_count": 29,
   "metadata": {
    "application/vnd.databricks.v1+cell": {
     "inputWidgets": {},
     "nuid": "144eb3f8-67fa-4699-b97d-22370d6bf52a",
     "showTitle": false,
     "title": ""
    }
   },
   "outputs": [
    {
     "name": "stdout",
     "output_type": "stream",
     "text": [
      "AutoML progress: |\n",
      "20:22:16.245: _train param, Dropping bad and constant columns: [merchant_country, merchant_id, status_id, customer_id, delivery_address_country, order_id]\n",
      "\n",
      "██████████████████\n",
      "20:22:35.310: _train param, Dropping bad and constant columns: [merchant_country, merchant_id, status_id, customer_id, delivery_address_country, order_id]\n",
      "\n",
      "███████████████████████████████████████\n",
      "20:23:11.504: _train param, Dropping bad and constant columns: [merchant_country, merchant_id, status_id, customer_id, delivery_address_country, order_id]\n",
      "\n",
      "██████| (done) 100%\n",
      "Model Details\n",
      "=============\n",
      "H2OXGBoostEstimator :  XGBoost\n",
      "Model Key:  XGBoost_1_AutoML_1_20220118_202215\n",
      "\n",
      "\n",
      "Model Summary: \n"
     ]
    },
    {
     "data": {
      "text/html": [
       "<div>\n",
       "<style scoped>\n",
       "    .dataframe tbody tr th:only-of-type {\n",
       "        vertical-align: middle;\n",
       "    }\n",
       "\n",
       "    .dataframe tbody tr th {\n",
       "        vertical-align: top;\n",
       "    }\n",
       "\n",
       "    .dataframe thead th {\n",
       "        text-align: right;\n",
       "    }\n",
       "</style>\n",
       "<table border=\"1\" class=\"dataframe\">\n",
       "  <thead>\n",
       "    <tr style=\"text-align: right;\">\n",
       "      <th></th>\n",
       "      <th></th>\n",
       "      <th>number_of_trees</th>\n",
       "    </tr>\n",
       "  </thead>\n",
       "  <tbody>\n",
       "    <tr>\n",
       "      <th>0</th>\n",
       "      <td></td>\n",
       "      <td>13.0</td>\n",
       "    </tr>\n",
       "  </tbody>\n",
       "</table>\n",
       "</div>"
      ],
      "text/plain": [
       "     number_of_trees\n",
       "0               13.0"
      ]
     },
     "metadata": {},
     "output_type": "display_data"
    },
    {
     "name": "stdout",
     "output_type": "stream",
     "text": [
      "\n",
      "\n",
      "ModelMetricsRegression: xgboost\n",
      "** Reported on train data. **\n",
      "\n",
      "MSE: 11.51907312584116\n",
      "RMSE: 3.3939760054898973\n",
      "MAE: 1.941909033232072\n",
      "RMSLE: 0.061399994035527435\n",
      "Mean Residual Deviance: 11.51907312584116\n",
      "\n",
      "ModelMetricsRegression: xgboost\n",
      "** Reported on cross-validation data. **\n",
      "\n",
      "MSE: 17.531404387664487\n",
      "RMSE: 4.187051992472089\n",
      "MAE: 2.4711242135490137\n",
      "RMSLE: 0.07561767788069695\n",
      "Mean Residual Deviance: 17.531404387664487\n",
      "\n",
      "Cross-Validation Metrics Summary: \n"
     ]
    },
    {
     "data": {
      "text/html": [
       "<div>\n",
       "<style scoped>\n",
       "    .dataframe tbody tr th:only-of-type {\n",
       "        vertical-align: middle;\n",
       "    }\n",
       "\n",
       "    .dataframe tbody tr th {\n",
       "        vertical-align: top;\n",
       "    }\n",
       "\n",
       "    .dataframe thead th {\n",
       "        text-align: right;\n",
       "    }\n",
       "</style>\n",
       "<table border=\"1\" class=\"dataframe\">\n",
       "  <thead>\n",
       "    <tr style=\"text-align: right;\">\n",
       "      <th></th>\n",
       "      <th></th>\n",
       "      <th>mean</th>\n",
       "      <th>sd</th>\n",
       "      <th>cv_1_valid</th>\n",
       "      <th>cv_2_valid</th>\n",
       "      <th>cv_3_valid</th>\n",
       "      <th>cv_4_valid</th>\n",
       "      <th>cv_5_valid</th>\n",
       "    </tr>\n",
       "  </thead>\n",
       "  <tbody>\n",
       "    <tr>\n",
       "      <th>0</th>\n",
       "      <td>mae</td>\n",
       "      <td>2.471121</td>\n",
       "      <td>0.235907</td>\n",
       "      <td>2.578224</td>\n",
       "      <td>2.803442</td>\n",
       "      <td>2.404905</td>\n",
       "      <td>2.400002</td>\n",
       "      <td>2.169031</td>\n",
       "    </tr>\n",
       "    <tr>\n",
       "      <th>1</th>\n",
       "      <td>mean_residual_deviance</td>\n",
       "      <td>17.531351</td>\n",
       "      <td>2.886981</td>\n",
       "      <td>19.291239</td>\n",
       "      <td>21.576204</td>\n",
       "      <td>16.277002</td>\n",
       "      <td>16.244621</td>\n",
       "      <td>14.267683</td>\n",
       "    </tr>\n",
       "    <tr>\n",
       "      <th>2</th>\n",
       "      <td>mse</td>\n",
       "      <td>17.531351</td>\n",
       "      <td>2.886981</td>\n",
       "      <td>19.291239</td>\n",
       "      <td>21.576204</td>\n",
       "      <td>16.277002</td>\n",
       "      <td>16.244621</td>\n",
       "      <td>14.267683</td>\n",
       "    </tr>\n",
       "    <tr>\n",
       "      <th>3</th>\n",
       "      <td>r2</td>\n",
       "      <td>0.950747</td>\n",
       "      <td>0.007957</td>\n",
       "      <td>0.945450</td>\n",
       "      <td>0.939783</td>\n",
       "      <td>0.954715</td>\n",
       "      <td>0.954281</td>\n",
       "      <td>0.959507</td>\n",
       "    </tr>\n",
       "    <tr>\n",
       "      <th>4</th>\n",
       "      <td>residual_deviance</td>\n",
       "      <td>17.531351</td>\n",
       "      <td>2.886981</td>\n",
       "      <td>19.291239</td>\n",
       "      <td>21.576204</td>\n",
       "      <td>16.277002</td>\n",
       "      <td>16.244621</td>\n",
       "      <td>14.267683</td>\n",
       "    </tr>\n",
       "    <tr>\n",
       "      <th>5</th>\n",
       "      <td>rmse</td>\n",
       "      <td>4.175879</td>\n",
       "      <td>0.341657</td>\n",
       "      <td>4.392179</td>\n",
       "      <td>4.645020</td>\n",
       "      <td>4.034477</td>\n",
       "      <td>4.030462</td>\n",
       "      <td>3.777259</td>\n",
       "    </tr>\n",
       "    <tr>\n",
       "      <th>6</th>\n",
       "      <td>rmsle</td>\n",
       "      <td>0.075507</td>\n",
       "      <td>0.004580</td>\n",
       "      <td>0.077510</td>\n",
       "      <td>0.082480</td>\n",
       "      <td>0.073448</td>\n",
       "      <td>0.073289</td>\n",
       "      <td>0.070805</td>\n",
       "    </tr>\n",
       "  </tbody>\n",
       "</table>\n",
       "</div>"
      ],
      "text/plain": [
       "                                mean        sd  cv_1_valid  cv_2_valid  \\\n",
       "0                     mae   2.471121  0.235907    2.578224    2.803442   \n",
       "1  mean_residual_deviance  17.531351  2.886981   19.291239   21.576204   \n",
       "2                     mse  17.531351  2.886981   19.291239   21.576204   \n",
       "3                      r2   0.950747  0.007957    0.945450    0.939783   \n",
       "4       residual_deviance  17.531351  2.886981   19.291239   21.576204   \n",
       "5                    rmse   4.175879  0.341657    4.392179    4.645020   \n",
       "6                   rmsle   0.075507  0.004580    0.077510    0.082480   \n",
       "\n",
       "   cv_3_valid  cv_4_valid  cv_5_valid  \n",
       "0    2.404905    2.400002    2.169031  \n",
       "1   16.277002   16.244621   14.267683  \n",
       "2   16.277002   16.244621   14.267683  \n",
       "3    0.954715    0.954281    0.959507  \n",
       "4   16.277002   16.244621   14.267683  \n",
       "5    4.034477    4.030462    3.777259  \n",
       "6    0.073448    0.073289    0.070805  "
      ]
     },
     "metadata": {},
     "output_type": "display_data"
    },
    {
     "name": "stdout",
     "output_type": "stream",
     "text": [
      "\n",
      "Scoring History: \n"
     ]
    },
    {
     "data": {
      "text/html": [
       "<div>\n",
       "<style scoped>\n",
       "    .dataframe tbody tr th:only-of-type {\n",
       "        vertical-align: middle;\n",
       "    }\n",
       "\n",
       "    .dataframe tbody tr th {\n",
       "        vertical-align: top;\n",
       "    }\n",
       "\n",
       "    .dataframe thead th {\n",
       "        text-align: right;\n",
       "    }\n",
       "</style>\n",
       "<table border=\"1\" class=\"dataframe\">\n",
       "  <thead>\n",
       "    <tr style=\"text-align: right;\">\n",
       "      <th></th>\n",
       "      <th></th>\n",
       "      <th>timestamp</th>\n",
       "      <th>duration</th>\n",
       "      <th>number_of_trees</th>\n",
       "      <th>training_rmse</th>\n",
       "      <th>training_mae</th>\n",
       "      <th>training_deviance</th>\n",
       "    </tr>\n",
       "  </thead>\n",
       "  <tbody>\n",
       "    <tr>\n",
       "      <th>0</th>\n",
       "      <td></td>\n",
       "      <td>2022-01-18 21:22:31</td>\n",
       "      <td>15.161 sec</td>\n",
       "      <td>0.0</td>\n",
       "      <td>58.439122</td>\n",
       "      <td>55.311031</td>\n",
       "      <td>3415.130971</td>\n",
       "    </tr>\n",
       "    <tr>\n",
       "      <th>1</th>\n",
       "      <td></td>\n",
       "      <td>2022-01-18 21:22:33</td>\n",
       "      <td>16.801 sec</td>\n",
       "      <td>5.0</td>\n",
       "      <td>11.350070</td>\n",
       "      <td>9.852360</td>\n",
       "      <td>128.824090</td>\n",
       "    </tr>\n",
       "    <tr>\n",
       "      <th>2</th>\n",
       "      <td></td>\n",
       "      <td>2022-01-18 21:22:34</td>\n",
       "      <td>17.898 sec</td>\n",
       "      <td>10.0</td>\n",
       "      <td>4.117752</td>\n",
       "      <td>2.721086</td>\n",
       "      <td>16.955879</td>\n",
       "    </tr>\n",
       "    <tr>\n",
       "      <th>3</th>\n",
       "      <td></td>\n",
       "      <td>2022-01-18 21:22:34</td>\n",
       "      <td>18.670 sec</td>\n",
       "      <td>13.0</td>\n",
       "      <td>3.393976</td>\n",
       "      <td>1.941909</td>\n",
       "      <td>11.519073</td>\n",
       "    </tr>\n",
       "  </tbody>\n",
       "</table>\n",
       "</div>"
      ],
      "text/plain": [
       "               timestamp    duration  number_of_trees  training_rmse  \\\n",
       "0    2022-01-18 21:22:31  15.161 sec              0.0      58.439122   \n",
       "1    2022-01-18 21:22:33  16.801 sec              5.0      11.350070   \n",
       "2    2022-01-18 21:22:34  17.898 sec             10.0       4.117752   \n",
       "3    2022-01-18 21:22:34  18.670 sec             13.0       3.393976   \n",
       "\n",
       "   training_mae  training_deviance  \n",
       "0     55.311031        3415.130971  \n",
       "1      9.852360         128.824090  \n",
       "2      2.721086          16.955879  \n",
       "3      1.941909          11.519073  "
      ]
     },
     "metadata": {},
     "output_type": "display_data"
    },
    {
     "name": "stdout",
     "output_type": "stream",
     "text": [
      "\n",
      "Variable Importances: \n"
     ]
    },
    {
     "data": {
      "text/html": [
       "<div>\n",
       "<style scoped>\n",
       "    .dataframe tbody tr th:only-of-type {\n",
       "        vertical-align: middle;\n",
       "    }\n",
       "\n",
       "    .dataframe tbody tr th {\n",
       "        vertical-align: top;\n",
       "    }\n",
       "\n",
       "    .dataframe thead th {\n",
       "        text-align: right;\n",
       "    }\n",
       "</style>\n",
       "<table border=\"1\" class=\"dataframe\">\n",
       "  <thead>\n",
       "    <tr style=\"text-align: right;\">\n",
       "      <th></th>\n",
       "      <th>variable</th>\n",
       "      <th>relative_importance</th>\n",
       "      <th>scaled_importance</th>\n",
       "      <th>percentage</th>\n",
       "    </tr>\n",
       "  </thead>\n",
       "  <tbody>\n",
       "    <tr>\n",
       "      <th>0</th>\n",
       "      <td>price_range</td>\n",
       "      <td>1.075888e+07</td>\n",
       "      <td>1.000000</td>\n",
       "      <td>0.834939</td>\n",
       "    </tr>\n",
       "    <tr>\n",
       "      <th>1</th>\n",
       "      <td>minimum_order_value</td>\n",
       "      <td>4.195903e+05</td>\n",
       "      <td>0.038999</td>\n",
       "      <td>0.032562</td>\n",
       "    </tr>\n",
       "    <tr>\n",
       "      <th>2</th>\n",
       "      <td>order_total_amount</td>\n",
       "      <td>3.100477e+05</td>\n",
       "      <td>0.028818</td>\n",
       "      <td>0.024061</td>\n",
       "    </tr>\n",
       "    <tr>\n",
       "      <th>3</th>\n",
       "      <td>merchant_zip_code</td>\n",
       "      <td>2.181958e+05</td>\n",
       "      <td>0.020281</td>\n",
       "      <td>0.016933</td>\n",
       "    </tr>\n",
       "    <tr>\n",
       "      <th>4</th>\n",
       "      <td>delivery_address_longitude</td>\n",
       "      <td>1.293045e+05</td>\n",
       "      <td>0.012018</td>\n",
       "      <td>0.010035</td>\n",
       "    </tr>\n",
       "    <tr>\n",
       "      <th>5</th>\n",
       "      <td>enabled.true</td>\n",
       "      <td>1.085515e+05</td>\n",
       "      <td>0.010089</td>\n",
       "      <td>0.008424</td>\n",
       "    </tr>\n",
       "    <tr>\n",
       "      <th>6</th>\n",
       "      <td>delivery_time</td>\n",
       "      <td>1.072228e+05</td>\n",
       "      <td>0.009966</td>\n",
       "      <td>0.008321</td>\n",
       "    </tr>\n",
       "    <tr>\n",
       "      <th>7</th>\n",
       "      <td>takeout_time</td>\n",
       "      <td>1.072048e+05</td>\n",
       "      <td>0.009964</td>\n",
       "      <td>0.008320</td>\n",
       "    </tr>\n",
       "    <tr>\n",
       "      <th>8</th>\n",
       "      <td>delivery_address_latitude</td>\n",
       "      <td>9.570969e+04</td>\n",
       "      <td>0.008896</td>\n",
       "      <td>0.007428</td>\n",
       "    </tr>\n",
       "    <tr>\n",
       "      <th>9</th>\n",
       "      <td>enabled.false</td>\n",
       "      <td>7.673938e+04</td>\n",
       "      <td>0.007133</td>\n",
       "      <td>0.005955</td>\n",
       "    </tr>\n",
       "    <tr>\n",
       "      <th>10</th>\n",
       "      <td>delivery_address_zip_code</td>\n",
       "      <td>6.336609e+04</td>\n",
       "      <td>0.005890</td>\n",
       "      <td>0.004918</td>\n",
       "    </tr>\n",
       "    <tr>\n",
       "      <th>11</th>\n",
       "      <td>Unnamed: 0</td>\n",
       "      <td>4.504891e+04</td>\n",
       "      <td>0.004187</td>\n",
       "      <td>0.003496</td>\n",
       "    </tr>\n",
       "    <tr>\n",
       "      <th>12</th>\n",
       "      <td>cpf</td>\n",
       "      <td>4.336034e+04</td>\n",
       "      <td>0.004030</td>\n",
       "      <td>0.003365</td>\n",
       "    </tr>\n",
       "    <tr>\n",
       "      <th>13</th>\n",
       "      <td>customer_phone_number</td>\n",
       "      <td>3.437179e+04</td>\n",
       "      <td>0.003195</td>\n",
       "      <td>0.002667</td>\n",
       "    </tr>\n",
       "    <tr>\n",
       "      <th>14</th>\n",
       "      <td>res_created_at</td>\n",
       "      <td>3.389959e+04</td>\n",
       "      <td>0.003151</td>\n",
       "      <td>0.002631</td>\n",
       "    </tr>\n",
       "    <tr>\n",
       "      <th>15</th>\n",
       "      <td>status_created_at</td>\n",
       "      <td>3.107489e+04</td>\n",
       "      <td>0.002888</td>\n",
       "      <td>0.002412</td>\n",
       "    </tr>\n",
       "    <tr>\n",
       "      <th>16</th>\n",
       "      <td>delivery_address_external_id</td>\n",
       "      <td>2.797764e+04</td>\n",
       "      <td>0.002600</td>\n",
       "      <td>0.002171</td>\n",
       "    </tr>\n",
       "    <tr>\n",
       "      <th>17</th>\n",
       "      <td>customer_phone_area</td>\n",
       "      <td>2.796496e+04</td>\n",
       "      <td>0.002599</td>\n",
       "      <td>0.002170</td>\n",
       "    </tr>\n",
       "    <tr>\n",
       "      <th>18</th>\n",
       "      <td>merchant_city.SAO PAULO</td>\n",
       "      <td>1.812705e+04</td>\n",
       "      <td>0.001685</td>\n",
       "      <td>0.001407</td>\n",
       "    </tr>\n",
       "    <tr>\n",
       "      <th>19</th>\n",
       "      <td>merchant_latitude</td>\n",
       "      <td>1.726835e+04</td>\n",
       "      <td>0.001605</td>\n",
       "      <td>0.001340</td>\n",
       "    </tr>\n",
       "  </tbody>\n",
       "</table>\n",
       "</div>"
      ],
      "text/plain": [
       "                        variable  relative_importance  scaled_importance  \\\n",
       "0                    price_range         1.075888e+07           1.000000   \n",
       "1            minimum_order_value         4.195903e+05           0.038999   \n",
       "2             order_total_amount         3.100477e+05           0.028818   \n",
       "3              merchant_zip_code         2.181958e+05           0.020281   \n",
       "4     delivery_address_longitude         1.293045e+05           0.012018   \n",
       "5                   enabled.true         1.085515e+05           0.010089   \n",
       "6                  delivery_time         1.072228e+05           0.009966   \n",
       "7                   takeout_time         1.072048e+05           0.009964   \n",
       "8      delivery_address_latitude         9.570969e+04           0.008896   \n",
       "9                  enabled.false         7.673938e+04           0.007133   \n",
       "10     delivery_address_zip_code         6.336609e+04           0.005890   \n",
       "11                    Unnamed: 0         4.504891e+04           0.004187   \n",
       "12                           cpf         4.336034e+04           0.004030   \n",
       "13         customer_phone_number         3.437179e+04           0.003195   \n",
       "14                res_created_at         3.389959e+04           0.003151   \n",
       "15             status_created_at         3.107489e+04           0.002888   \n",
       "16  delivery_address_external_id         2.797764e+04           0.002600   \n",
       "17           customer_phone_area         2.796496e+04           0.002599   \n",
       "18       merchant_city.SAO PAULO         1.812705e+04           0.001685   \n",
       "19             merchant_latitude         1.726835e+04           0.001605   \n",
       "\n",
       "    percentage  \n",
       "0     0.834939  \n",
       "1     0.032562  \n",
       "2     0.024061  \n",
       "3     0.016933  \n",
       "4     0.010035  \n",
       "5     0.008424  \n",
       "6     0.008321  \n",
       "7     0.008320  \n",
       "8     0.007428  \n",
       "9     0.005955  \n",
       "10    0.004918  \n",
       "11    0.003496  \n",
       "12    0.003365  \n",
       "13    0.002667  \n",
       "14    0.002631  \n",
       "15    0.002412  \n",
       "16    0.002171  \n",
       "17    0.002170  \n",
       "18    0.001407  \n",
       "19    0.001340  "
      ]
     },
     "metadata": {},
     "output_type": "display_data"
    },
    {
     "name": "stdout",
     "output_type": "stream",
     "text": [
      "\n",
      "See the whole table with table.as_data_frame()\n"
     ]
    },
    {
     "data": {
      "text/plain": []
     },
     "execution_count": 29,
     "metadata": {},
     "output_type": "execute_result"
    }
   ],
   "source": [
    "aml.train(training_frame = train, y = target)"
   ]
  },
  {
   "cell_type": "code",
   "execution_count": 30,
   "metadata": {
    "application/vnd.databricks.v1+cell": {
     "inputWidgets": {},
     "nuid": "34831bf9-17d1-41a8-a52e-704d19c3ed30",
     "showTitle": false,
     "title": ""
    }
   },
   "outputs": [],
   "source": [
    "best_model = aml.get_best_model()"
   ]
  },
  {
   "cell_type": "code",
   "execution_count": 31,
   "metadata": {
    "application/vnd.databricks.v1+cell": {
     "inputWidgets": {},
     "nuid": "04fadbbb-8a2d-4613-a90d-88578ef06d42",
     "showTitle": false,
     "title": ""
    }
   },
   "outputs": [],
   "source": [
    "model_info = best_model.model_performance(test)"
   ]
  },
  {
   "cell_type": "code",
   "execution_count": 32,
   "metadata": {
    "application/vnd.databricks.v1+cell": {
     "inputWidgets": {},
     "nuid": "ab72d41b-5825-4ab0-b08f-874fd1c6c005",
     "showTitle": true,
     "title": "Saving the model"
    }
   },
   "outputs": [],
   "source": [
    "model_path_1 = h2o.save_model(model=best_model,path=saving_path, force=True)"
   ]
  },
  {
   "cell_type": "code",
   "execution_count": 33,
   "metadata": {
    "application/vnd.databricks.v1+cell": {
     "inputWidgets": {},
     "nuid": "5978a89a-b22a-4639-a071-3ca235edaf09",
     "showTitle": false,
     "title": ""
    }
   },
   "outputs": [],
   "source": [
    "best_model = model_path_1.split('/')[int(len(model_path_1.split('/'))-1)]"
   ]
  },
  {
   "cell_type": "code",
   "execution_count": 34,
   "metadata": {
    "application/vnd.databricks.v1+cell": {
     "inputWidgets": {},
     "nuid": "6b0c8693-c7bb-4164-8a31-74e0e8a40018",
     "showTitle": true,
     "title": "Model Info"
    }
   },
   "outputs": [],
   "source": [
    "model_id = best_model.split('_')[-2]+best_model.split('_')[-1]\n",
    "model_name = best_model.split('_')[0]+'_'+model_id\n",
    "model_date = best_model.split('_')[-2]"
   ]
  },
  {
   "cell_type": "code",
   "execution_count": 35,
   "metadata": {
    "application/vnd.databricks.v1+cell": {
     "inputWidgets": {},
     "nuid": "6fec5e49-3a1b-493d-b45f-9766f771a4f8",
     "showTitle": true,
     "title": "Saving the train and test data"
    }
   },
   "outputs": [
    {
     "name": "stdout",
     "output_type": "stream",
     "text": [
      "Export File progress: |██████████████████████████████████████████████████████████| (done) 100%\n",
      "Export File progress: |██████████████████████████████████████████████████████████| (done) 100%\n"
     ]
    }
   ],
   "source": [
    "test_path = saving_path + '/test_' + model_id+ '.csv'\n",
    "train_path = saving_path + '/train_' + model_id +'.csv'\n",
    "\n",
    "h2o.export_file(test, path = test_path , force = True)\n",
    "h2o.export_file(train, path = train_path , force = True)"
   ]
  },
  {
   "cell_type": "code",
   "execution_count": 36,
   "metadata": {
    "application/vnd.databricks.v1+cell": {
     "inputWidgets": {},
     "nuid": "fcfb3a80-386c-4003-8f6c-a290ad9cb31e",
     "showTitle": false,
     "title": ""
    }
   },
   "outputs": [],
   "source": [
    "model_path = saving_path +'/'+ model_name\n",
    "\n",
    "try:\n",
    "    aic = model_info.aic()\n",
    "except:\n",
    "    aic = str(0)\n",
    "\n",
    "if classification == False:\n",
    "    info = {\n",
    "        'id': str(model_id),\n",
    "        'name': str(model_name),\n",
    "        'data': str(model_date),\n",
    "        \"h2o_version\": str(h2o.__version__),\n",
    "        \"seed\": str(seed),\n",
    "        \"target\": str(target),\n",
    "        'mse':str(model_info.mse()),\n",
    "        'rmse':str(model_info.rmse()),\n",
    "        'mae':str(model_info.mae()),\n",
    "        'rmsle':str(model_info.rmsle()),\n",
    "        'r2':str(model_info.r2()),\n",
    "        'mean_resid_deviance':str(model_info.mean_residual_deviance()),\n",
    "        'null_degrees_of_freedom':str(model_info.null_degrees_of_freedom()),\n",
    "        'resid_degrees_of_freedom':str(model_info.residual_degrees_of_freedom()),\n",
    "        'null_deviance':str(model_info.null_deviance()),\n",
    "        'residual_deviance':str(model_info.residual_deviance()),\n",
    "        'aic':aic,\n",
    "        \"train_path\": str(train_path),\n",
    "        \"test_path\": str(test_path),\n",
    "        'model_path':str(model_path)\n",
    "    }\n",
    "    \n",
    "# elif classification == True:\n",
    "#     info = {\n",
    "#         'id': model_id,\n",
    "#         'name': model_name,\n",
    "#         'data': model_date,\n",
    "#         \"h2o_version\": h2o.__version__,\n",
    "#         \"seed\": str(seed),\n",
    "#         \"target\": target,\n",
    "#         \"train_data\": train_path,\n",
    "#         \"test_data\": test_path,\n",
    "#         'mse':model_info.mse(),\n",
    "#         'rmse':model_info.rmse(),\n",
    "#         'mae':model_info.mae(),\n",
    "#         'rmsle':model_info.rmsle()\n",
    "#         'r2':model_info.r2(),\n",
    "#         'mean_resid_deviance':model_info.mean_residual_deviance(),\n",
    "#         'null_degrees_of_freedom()':model_info.null_degrees_of_freedom(),\n",
    "#         'resid_degrees_of_freedom':model_info.residual_degrees_of_freedom(),\n",
    "        \n",
    "#         'aic':model_info.aic()\n",
    "        \n",
    "#     }"
   ]
  },
  {
   "cell_type": "code",
   "execution_count": 37,
   "metadata": {
    "application/vnd.databricks.v1+cell": {
     "inputWidgets": {},
     "nuid": "0bb3ec0c-9dc7-4c1a-a2e8-1640361e44a1",
     "showTitle": false,
     "title": ""
    }
   },
   "outputs": [],
   "source": [
    "info_new = pd.DataFrame([info])\n",
    "\n",
    "info_path = saving_path + '/' + 'info.csv'\n",
    "\n",
    "try:\n",
    "    info_old = pd.read_csv(info_path, index_col=[0])\n",
    "    info_save = pd.concat([info_old, info_new])\n",
    "    info_save.to_csv(info_path)\n",
    "except:\n",
    "    info_new.to_csv(info_path)"
   ]
  },
  {
   "cell_type": "code",
   "execution_count": 50,
   "metadata": {},
   "outputs": [
    {
     "data": {
      "text/html": [
       "<div>\n",
       "<style scoped>\n",
       "    .dataframe tbody tr th:only-of-type {\n",
       "        vertical-align: middle;\n",
       "    }\n",
       "\n",
       "    .dataframe tbody tr th {\n",
       "        vertical-align: top;\n",
       "    }\n",
       "\n",
       "    .dataframe thead th {\n",
       "        text-align: right;\n",
       "    }\n",
       "</style>\n",
       "<table border=\"1\" class=\"dataframe\">\n",
       "  <thead>\n",
       "    <tr style=\"text-align: right;\">\n",
       "      <th></th>\n",
       "      <th>id</th>\n",
       "      <th>name</th>\n",
       "      <th>data</th>\n",
       "      <th>h2o_version</th>\n",
       "      <th>seed</th>\n",
       "      <th>target</th>\n",
       "      <th>mse</th>\n",
       "      <th>rmse</th>\n",
       "      <th>mae</th>\n",
       "      <th>rmsle</th>\n",
       "      <th>r2</th>\n",
       "      <th>mean_resid_deviance</th>\n",
       "      <th>null_degrees_of_freedom</th>\n",
       "      <th>resid_degrees_of_freedom</th>\n",
       "      <th>null_deviance</th>\n",
       "      <th>residual_deviance</th>\n",
       "      <th>aic</th>\n",
       "      <th>train_path</th>\n",
       "      <th>test_path</th>\n",
       "      <th>model_path</th>\n",
       "    </tr>\n",
       "  </thead>\n",
       "  <tbody>\n",
       "    <tr>\n",
       "      <th>0</th>\n",
       "      <td>20220112154630</td>\n",
       "      <td>StackedEnsemble_20220112154630</td>\n",
       "      <td>20220112</td>\n",
       "      <td>3.34.0.7</td>\n",
       "      <td>1412</td>\n",
       "      <td>average_ticket</td>\n",
       "      <td>5.181914</td>\n",
       "      <td>2.276382</td>\n",
       "      <td>1.058793</td>\n",
       "      <td>0.042543</td>\n",
       "      <td>0.985469</td>\n",
       "      <td>5.181914</td>\n",
       "      <td>7986</td>\n",
       "      <td>7983</td>\n",
       "      <td>2848984.895475833</td>\n",
       "      <td>41387.94397116301</td>\n",
       "      <td>0</td>\n",
       "      <td>/home/hobbes/Downloads/IFood/data/model/train_20220112154630.csv</td>\n",
       "      <td>/home/hobbes/Downloads/IFood/data/model/test_20220112154630.csv</td>\n",
       "      <td>/home/hobbes/Downloads/IFood/data/model/StackedEnsemble_2022011215...</td>\n",
       "    </tr>\n",
       "    <tr>\n",
       "      <th>0</th>\n",
       "      <td>20220112155358</td>\n",
       "      <td>XGBoost_20220112155358</td>\n",
       "      <td>20220112</td>\n",
       "      <td>3.34.0.7</td>\n",
       "      <td>22</td>\n",
       "      <td>average_ticket</td>\n",
       "      <td>13.582130</td>\n",
       "      <td>3.685394</td>\n",
       "      <td>2.430961</td>\n",
       "      <td>0.070916</td>\n",
       "      <td>0.961408</td>\n",
       "      <td>13.582130</td>\n",
       "      <td>None</td>\n",
       "      <td>None</td>\n",
       "      <td>None</td>\n",
       "      <td>None</td>\n",
       "      <td>0</td>\n",
       "      <td>/home/hobbes/Downloads/IFood/data/model/train_20220112155358.csv</td>\n",
       "      <td>/home/hobbes/Downloads/IFood/data/model/test_20220112155358.csv</td>\n",
       "      <td>/home/hobbes/Downloads/IFood/data/model/XGBoost_20220112155358</td>\n",
       "    </tr>\n",
       "    <tr>\n",
       "      <th>0</th>\n",
       "      <td>20220118202215</td>\n",
       "      <td>XGBoost_20220118202215</td>\n",
       "      <td>20220118</td>\n",
       "      <td>3.34.0.7</td>\n",
       "      <td>23</td>\n",
       "      <td>average_ticket</td>\n",
       "      <td>16.819745</td>\n",
       "      <td>4.101188</td>\n",
       "      <td>2.316419</td>\n",
       "      <td>0.075361</td>\n",
       "      <td>0.952429</td>\n",
       "      <td>16.819745</td>\n",
       "      <td>None</td>\n",
       "      <td>None</td>\n",
       "      <td>None</td>\n",
       "      <td>None</td>\n",
       "      <td>0</td>\n",
       "      <td>/home/hobbes/Downloads/IFood/data/model//train_20220118202215.csv</td>\n",
       "      <td>/home/hobbes/Downloads/IFood/data/model//test_20220118202215.csv</td>\n",
       "      <td>/home/hobbes/Downloads/IFood/data/model//XGBoost_20220118202215</td>\n",
       "    </tr>\n",
       "  </tbody>\n",
       "</table>\n",
       "</div>"
      ],
      "text/plain": [
       "               id                            name      data h2o_version  seed  \\\n",
       "0  20220112154630  StackedEnsemble_20220112154630  20220112    3.34.0.7  1412   \n",
       "0  20220112155358          XGBoost_20220112155358  20220112    3.34.0.7    22   \n",
       "0  20220118202215          XGBoost_20220118202215  20220118    3.34.0.7    23   \n",
       "\n",
       "           target        mse      rmse       mae     rmsle        r2  \\\n",
       "0  average_ticket   5.181914  2.276382  1.058793  0.042543  0.985469   \n",
       "0  average_ticket  13.582130  3.685394  2.430961  0.070916  0.961408   \n",
       "0  average_ticket  16.819745  4.101188  2.316419  0.075361  0.952429   \n",
       "\n",
       "   mean_resid_deviance null_degrees_of_freedom resid_degrees_of_freedom  \\\n",
       "0             5.181914                    7986                     7983   \n",
       "0            13.582130                    None                     None   \n",
       "0            16.819745                    None                     None   \n",
       "\n",
       "       null_deviance  residual_deviance  aic  \\\n",
       "0  2848984.895475833  41387.94397116301    0   \n",
       "0               None               None    0   \n",
       "0               None               None    0   \n",
       "\n",
       "                                                          train_path  \\\n",
       "0   /home/hobbes/Downloads/IFood/data/model/train_20220112154630.csv   \n",
       "0   /home/hobbes/Downloads/IFood/data/model/train_20220112155358.csv   \n",
       "0  /home/hobbes/Downloads/IFood/data/model//train_20220118202215.csv   \n",
       "\n",
       "                                                          test_path  \\\n",
       "0   /home/hobbes/Downloads/IFood/data/model/test_20220112154630.csv   \n",
       "0   /home/hobbes/Downloads/IFood/data/model/test_20220112155358.csv   \n",
       "0  /home/hobbes/Downloads/IFood/data/model//test_20220118202215.csv   \n",
       "\n",
       "                                                              model_path  \n",
       "0  /home/hobbes/Downloads/IFood/data/model/StackedEnsemble_2022011215...  \n",
       "0         /home/hobbes/Downloads/IFood/data/model/XGBoost_20220112155358  \n",
       "0        /home/hobbes/Downloads/IFood/data/model//XGBoost_20220118202215  "
      ]
     },
     "execution_count": 50,
     "metadata": {},
     "output_type": "execute_result"
    }
   ],
   "source": [
    "info_old "
   ]
  },
  {
   "cell_type": "code",
   "execution_count": 38,
   "metadata": {
    "application/vnd.databricks.v1+cell": {
     "inputWidgets": {},
     "nuid": "70a62329-42f8-450f-ac86-fa914bb7f7a4",
     "showTitle": false,
     "title": ""
    }
   },
   "outputs": [],
   "source": [
    "os.rename(model_path_1, saving_path + '/'+ model_name)"
   ]
  },
  {
   "cell_type": "code",
   "execution_count": 47,
   "metadata": {
    "application/vnd.databricks.v1+cell": {
     "inputWidgets": {},
     "nuid": "844b78b4-acad-45bb-a78c-8c83ea4b91d3",
     "showTitle": true,
     "title": "Loading the model"
    }
   },
   "outputs": [],
   "source": [
    "load_path = model_path\n",
    "loaded_model = h2o.load_model(path='/home/hobbes/Downloads/IFood/data/model/XGBoost_20220118202215')"
   ]
  },
  {
   "cell_type": "code",
   "execution_count": 48,
   "metadata": {
    "application/vnd.databricks.v1+cell": {
     "inputWidgets": {},
     "nuid": "63d02667-4752-4aef-be00-c77071013494",
     "showTitle": true,
     "title": "Prediction"
    }
   },
   "outputs": [
    {
     "name": "stdout",
     "output_type": "stream",
     "text": [
      "xgboost prediction progress: |███████████████████████████████████████████████████| (done) 100%\n"
     ]
    }
   ],
   "source": [
    "preds = loaded_model.predict(test).as_data_frame()\n",
    "preds['target'] = test[target].as_data_frame()"
   ]
  },
  {
   "cell_type": "code",
   "execution_count": 49,
   "metadata": {
    "application/vnd.databricks.v1+cell": {
     "inputWidgets": {},
     "nuid": "dc66c7b1-741c-4332-9de9-d15ada65d2d6",
     "showTitle": false,
     "title": ""
    }
   },
   "outputs": [
    {
     "data": {
      "text/html": [
       "<div>\n",
       "<style scoped>\n",
       "    .dataframe tbody tr th:only-of-type {\n",
       "        vertical-align: middle;\n",
       "    }\n",
       "\n",
       "    .dataframe tbody tr th {\n",
       "        vertical-align: top;\n",
       "    }\n",
       "\n",
       "    .dataframe thead th {\n",
       "        text-align: right;\n",
       "    }\n",
       "</style>\n",
       "<table border=\"1\" class=\"dataframe\">\n",
       "  <thead>\n",
       "    <tr style=\"text-align: right;\">\n",
       "      <th></th>\n",
       "      <th>predict</th>\n",
       "      <th>target</th>\n",
       "    </tr>\n",
       "  </thead>\n",
       "  <tbody>\n",
       "    <tr>\n",
       "      <th>0</th>\n",
       "      <td>76.966217</td>\n",
       "      <td>80</td>\n",
       "    </tr>\n",
       "    <tr>\n",
       "      <th>1</th>\n",
       "      <td>76.966217</td>\n",
       "      <td>80</td>\n",
       "    </tr>\n",
       "    <tr>\n",
       "      <th>2</th>\n",
       "      <td>29.632746</td>\n",
       "      <td>30</td>\n",
       "    </tr>\n",
       "    <tr>\n",
       "      <th>3</th>\n",
       "      <td>59.606659</td>\n",
       "      <td>60</td>\n",
       "    </tr>\n",
       "    <tr>\n",
       "      <th>4</th>\n",
       "      <td>60.625885</td>\n",
       "      <td>60</td>\n",
       "    </tr>\n",
       "    <tr>\n",
       "      <th>...</th>\n",
       "      <td>...</td>\n",
       "      <td>...</td>\n",
       "    </tr>\n",
       "    <tr>\n",
       "      <th>7993</th>\n",
       "      <td>28.832254</td>\n",
       "      <td>30</td>\n",
       "    </tr>\n",
       "    <tr>\n",
       "      <th>7994</th>\n",
       "      <td>28.832254</td>\n",
       "      <td>30</td>\n",
       "    </tr>\n",
       "    <tr>\n",
       "      <th>7995</th>\n",
       "      <td>60.865658</td>\n",
       "      <td>60</td>\n",
       "    </tr>\n",
       "    <tr>\n",
       "      <th>7996</th>\n",
       "      <td>57.619953</td>\n",
       "      <td>60</td>\n",
       "    </tr>\n",
       "    <tr>\n",
       "      <th>7997</th>\n",
       "      <td>57.619953</td>\n",
       "      <td>60</td>\n",
       "    </tr>\n",
       "  </tbody>\n",
       "</table>\n",
       "<p>7998 rows × 2 columns</p>\n",
       "</div>"
      ],
      "text/plain": [
       "        predict  target\n",
       "0     76.966217      80\n",
       "1     76.966217      80\n",
       "2     29.632746      30\n",
       "3     59.606659      60\n",
       "4     60.625885      60\n",
       "...         ...     ...\n",
       "7993  28.832254      30\n",
       "7994  28.832254      30\n",
       "7995  60.865658      60\n",
       "7996  57.619953      60\n",
       "7997  57.619953      60\n",
       "\n",
       "[7998 rows x 2 columns]"
      ]
     },
     "metadata": {},
     "output_type": "display_data"
    }
   ],
   "source": [
    "display(preds)"
   ]
  },
  {
   "cell_type": "code",
   "execution_count": 42,
   "metadata": {},
   "outputs": [],
   "source": [
    "info_old = pd.read_csv(info_path, index_col=[0])"
   ]
  },
  {
   "cell_type": "code",
   "execution_count": 43,
   "metadata": {},
   "outputs": [
    {
     "data": {
      "text/plain": [
       "'/home/hobbes/Downloads/IFood/data/model//XGBoost_20220118202215'"
      ]
     },
     "execution_count": 43,
     "metadata": {},
     "output_type": "execute_result"
    }
   ],
   "source": [
    "load_path"
   ]
  },
  {
   "cell_type": "code",
   "execution_count": null,
   "metadata": {},
   "outputs": [],
   "source": []
  }
 ],
 "metadata": {
  "application/vnd.databricks.v1+notebook": {
   "dashboards": [],
   "language": "python",
   "notebookMetadata": {
    "pythonIndentUnit": 4
   },
   "notebookName": "ifood_notebook_h2o",
   "notebookOrigID": 2710707922637247,
   "widgets": {}
  },
  "kernelspec": {
   "display_name": "Python 3 (ipykernel)",
   "language": "python",
   "name": "python3"
  },
  "language_info": {
   "codemirror_mode": {
    "name": "ipython",
    "version": 3
   },
   "file_extension": ".py",
   "mimetype": "text/x-python",
   "name": "python",
   "nbconvert_exporter": "python",
   "pygments_lexer": "ipython3",
   "version": "3.7.12"
  }
 },
 "nbformat": 4,
 "nbformat_minor": 4
}
