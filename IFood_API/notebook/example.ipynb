{
 "cells": [
  {
   "cell_type": "code",
   "execution_count": 1,
   "id": "1f409e71-ed47-4b69-b042-043aa342c1cd",
   "metadata": {},
   "outputs": [],
   "source": [
    "import requests\n",
    "import time\n",
    "import json\n",
    "import pandas as pd"
   ]
  },
  {
   "cell_type": "markdown",
   "id": "8cd563bd-170b-46c9-be8e-89174aa4f700",
   "metadata": {},
   "source": [
    "## Get info\n",
    "The requests.get will return a dataframe in json format, to read it, you'll need to use pandas to transform it to a normal dataframe. Select the name of the model and send it in the json's post."
   ]
  },
  {
   "cell_type": "code",
   "execution_count": 2,
   "id": "58989e8a-690b-42a0-a462-653a529bf2f7",
   "metadata": {},
   "outputs": [],
   "source": [
    "server = 'http://0.0.0.0:49172/'"
   ]
  },
  {
   "cell_type": "code",
   "execution_count": 3,
   "id": "981890d3-2b3e-4086-bde2-cf8f0963b3be",
   "metadata": {
    "tags": []
   },
   "outputs": [
    {
     "data": {
      "text/html": [
       "<div>\n",
       "<style scoped>\n",
       "    .dataframe tbody tr th:only-of-type {\n",
       "        vertical-align: middle;\n",
       "    }\n",
       "\n",
       "    .dataframe tbody tr th {\n",
       "        vertical-align: top;\n",
       "    }\n",
       "\n",
       "    .dataframe thead th {\n",
       "        text-align: right;\n",
       "    }\n",
       "</style>\n",
       "<table border=\"1\" class=\"dataframe\">\n",
       "  <thead>\n",
       "    <tr style=\"text-align: right;\">\n",
       "      <th></th>\n",
       "      <th>id</th>\n",
       "      <th>name</th>\n",
       "      <th>data</th>\n",
       "      <th>h2o_version</th>\n",
       "      <th>seed</th>\n",
       "      <th>target</th>\n",
       "      <th>mse</th>\n",
       "      <th>rmse</th>\n",
       "      <th>mae</th>\n",
       "      <th>rmsle</th>\n",
       "      <th>r2</th>\n",
       "      <th>mean_resid_deviance</th>\n",
       "      <th>null_degrees_of_freedom</th>\n",
       "      <th>resid_degrees_of_freedom</th>\n",
       "      <th>null_deviance</th>\n",
       "      <th>residual_deviance</th>\n",
       "      <th>aic</th>\n",
       "      <th>train_path</th>\n",
       "      <th>test_path</th>\n",
       "      <th>model_path</th>\n",
       "    </tr>\n",
       "  </thead>\n",
       "  <tbody>\n",
       "    <tr>\n",
       "      <th>0</th>\n",
       "      <td>2022011802156</td>\n",
       "      <td>XGBoost_2022011802156</td>\n",
       "      <td>20220118</td>\n",
       "      <td>3.34.0.7</td>\n",
       "      <td>1</td>\n",
       "      <td>average_ticket</td>\n",
       "      <td>26.36098</td>\n",
       "      <td>5.134295</td>\n",
       "      <td>3.579569</td>\n",
       "      <td>0.088504</td>\n",
       "      <td>0.926862</td>\n",
       "      <td>26.36098</td>\n",
       "      <td>None</td>\n",
       "      <td>None</td>\n",
       "      <td>None</td>\n",
       "      <td>None</td>\n",
       "      <td>0</td>\n",
       "      <td>/home/hobbes/Documents/python/IFood_ML/IFood_A...</td>\n",
       "      <td>/home/hobbes/Documents/python/IFood_ML/IFood_A...</td>\n",
       "      <td>/home/hobbes/Documents/python/IFood_ML/IFood_A...</td>\n",
       "    </tr>\n",
       "    <tr>\n",
       "      <th>1</th>\n",
       "      <td>2022011814707</td>\n",
       "      <td>XGBoost_2022011814707</td>\n",
       "      <td>20220118</td>\n",
       "      <td>3.34.0.7</td>\n",
       "      <td>23</td>\n",
       "      <td>average_ticket</td>\n",
       "      <td>21.47282</td>\n",
       "      <td>4.633877</td>\n",
       "      <td>2.925169</td>\n",
       "      <td>0.084763</td>\n",
       "      <td>0.940708</td>\n",
       "      <td>21.47282</td>\n",
       "      <td>None</td>\n",
       "      <td>None</td>\n",
       "      <td>None</td>\n",
       "      <td>None</td>\n",
       "      <td>0</td>\n",
       "      <td>/home/hobbes/Documents/python/IFood_ML/IFood_A...</td>\n",
       "      <td>/home/hobbes/Documents/python/IFood_ML/IFood_A...</td>\n",
       "      <td>/home/hobbes/Documents/python/IFood_ML/IFood_A...</td>\n",
       "    </tr>\n",
       "  </tbody>\n",
       "</table>\n",
       "</div>"
      ],
      "text/plain": [
       "              id                   name      data h2o_version  seed  \\\n",
       "0  2022011802156  XGBoost_2022011802156  20220118    3.34.0.7     1   \n",
       "1  2022011814707  XGBoost_2022011814707  20220118    3.34.0.7    23   \n",
       "\n",
       "           target       mse      rmse       mae     rmsle        r2  \\\n",
       "0  average_ticket  26.36098  5.134295  3.579569  0.088504  0.926862   \n",
       "1  average_ticket  21.47282  4.633877  2.925169  0.084763  0.940708   \n",
       "\n",
       "   mean_resid_deviance null_degrees_of_freedom resid_degrees_of_freedom  \\\n",
       "0             26.36098                    None                     None   \n",
       "1             21.47282                    None                     None   \n",
       "\n",
       "  null_deviance residual_deviance  aic  \\\n",
       "0          None              None    0   \n",
       "1          None              None    0   \n",
       "\n",
       "                                          train_path  \\\n",
       "0  /home/hobbes/Documents/python/IFood_ML/IFood_A...   \n",
       "1  /home/hobbes/Documents/python/IFood_ML/IFood_A...   \n",
       "\n",
       "                                           test_path  \\\n",
       "0  /home/hobbes/Documents/python/IFood_ML/IFood_A...   \n",
       "1  /home/hobbes/Documents/python/IFood_ML/IFood_A...   \n",
       "\n",
       "                                          model_path  \n",
       "0  /home/hobbes/Documents/python/IFood_ML/IFood_A...  \n",
       "1  /home/hobbes/Documents/python/IFood_ML/IFood_A...  "
      ]
     },
     "execution_count": 3,
     "metadata": {},
     "output_type": "execute_result"
    }
   ],
   "source": [
    "info = pd.read_json(requests.get(server).content)\n",
    "info"
   ]
  },
  {
   "cell_type": "markdown",
   "id": "9f416527-7f1e-4e66-b6ff-a9b1ba080a6e",
   "metadata": {},
   "source": [
    "## Preparing\n",
    "At the cell bellow, we load the csv file, then drop the column 'unamed: 0' and transform the dataframe to json"
   ]
  },
  {
   "cell_type": "code",
   "execution_count": 4,
   "id": "a3079c7e-9578-4482-986a-b4d3d89d1bb9",
   "metadata": {},
   "outputs": [],
   "source": [
    "df = pd.read_csv('https://s3model.blob.core.windows.net/modeldata/test_2022011814707.csv')\n",
    "df = df.drop(df.columns[0], axis=1)\n",
    "jdf = df.to_json()"
   ]
  },
  {
   "cell_type": "markdown",
   "id": "104d43fd-cd38-4595-ad6e-326ad270c0e9",
   "metadata": {},
   "source": [
    "## Post model's name and json dataframe\n",
    "After selecting the name of the model and converting the dataframe into a json file, you can post it to receive the predictions."
   ]
  },
  {
   "cell_type": "code",
   "execution_count": null,
   "id": "353212c3-c675-4446-a97b-796632b1516a",
   "metadata": {},
   "outputs": [],
   "source": [
    "data = {\n",
    "    'name': 'XGBoost_2022011802156', \n",
    "    'json_df': jdf\n",
    "}"
   ]
  },
  {
   "cell_type": "code",
   "execution_count": 6,
   "id": "e0f53d7e-75c7-4c51-b799-167b94914bfc",
   "metadata": {},
   "outputs": [
    {
     "name": "stdout",
     "output_type": "stream",
     "text": [
      "Tempo: 8.73 s\n",
      "\n"
     ]
    }
   ],
   "source": [
    "s = time.time()\n",
    "try:\n",
    "    r = requests.post(server, data=data).content\n",
    "    prediction = pd.read_json(r)\n",
    "    \n",
    "    e = time.time()\n",
    "    print(f'Tempo: {round(e-s,2)} s\\n')\n",
    "    \n",
    "except Exception as erro:\n",
    "    e = erro\n",
    "    print(erro)"
   ]
  },
  {
   "cell_type": "code",
   "execution_count": 7,
   "id": "42ba3417-457c-4cad-b9d8-a5a7604d62c1",
   "metadata": {
    "tags": []
   },
   "outputs": [
    {
     "data": {
      "text/html": [
       "<div>\n",
       "<style scoped>\n",
       "    .dataframe tbody tr th:only-of-type {\n",
       "        vertical-align: middle;\n",
       "    }\n",
       "\n",
       "    .dataframe tbody tr th {\n",
       "        vertical-align: top;\n",
       "    }\n",
       "\n",
       "    .dataframe thead th {\n",
       "        text-align: right;\n",
       "    }\n",
       "</style>\n",
       "<table border=\"1\" class=\"dataframe\">\n",
       "  <thead>\n",
       "    <tr style=\"text-align: right;\">\n",
       "      <th></th>\n",
       "      <th>predict</th>\n",
       "    </tr>\n",
       "  </thead>\n",
       "  <tbody>\n",
       "    <tr>\n",
       "      <th>0</th>\n",
       "      <td>75.229279</td>\n",
       "    </tr>\n",
       "    <tr>\n",
       "      <th>1</th>\n",
       "      <td>75.229279</td>\n",
       "    </tr>\n",
       "    <tr>\n",
       "      <th>10</th>\n",
       "      <td>37.125568</td>\n",
       "    </tr>\n",
       "    <tr>\n",
       "      <th>100</th>\n",
       "      <td>60.262012</td>\n",
       "    </tr>\n",
       "    <tr>\n",
       "      <th>1000</th>\n",
       "      <td>38.354130</td>\n",
       "    </tr>\n",
       "    <tr>\n",
       "      <th>...</th>\n",
       "      <td>...</td>\n",
       "    </tr>\n",
       "    <tr>\n",
       "      <th>995</th>\n",
       "      <td>66.881584</td>\n",
       "    </tr>\n",
       "    <tr>\n",
       "      <th>996</th>\n",
       "      <td>57.805367</td>\n",
       "    </tr>\n",
       "    <tr>\n",
       "      <th>997</th>\n",
       "      <td>57.805367</td>\n",
       "    </tr>\n",
       "    <tr>\n",
       "      <th>998</th>\n",
       "      <td>61.440636</td>\n",
       "    </tr>\n",
       "    <tr>\n",
       "      <th>999</th>\n",
       "      <td>38.354130</td>\n",
       "    </tr>\n",
       "  </tbody>\n",
       "</table>\n",
       "<p>7940 rows × 1 columns</p>\n",
       "</div>"
      ],
      "text/plain": [
       "        predict\n",
       "0     75.229279\n",
       "1     75.229279\n",
       "10    37.125568\n",
       "100   60.262012\n",
       "1000  38.354130\n",
       "...         ...\n",
       "995   66.881584\n",
       "996   57.805367\n",
       "997   57.805367\n",
       "998   61.440636\n",
       "999   38.354130\n",
       "\n",
       "[7940 rows x 1 columns]"
      ]
     },
     "execution_count": 7,
     "metadata": {},
     "output_type": "execute_result"
    }
   ],
   "source": [
    "prediction"
   ]
  },
  {
   "cell_type": "code",
   "execution_count": null,
   "id": "e55c5366-17cd-4ee3-9abc-9ecc7d9c2e2b",
   "metadata": {},
   "outputs": [],
   "source": []
  }
 ],
 "metadata": {
  "kernelspec": {
   "display_name": "Python 3 (ipykernel)",
   "language": "python",
   "name": "python3"
  },
  "language_info": {
   "codemirror_mode": {
    "name": "ipython",
    "version": 3
   },
   "file_extension": ".py",
   "mimetype": "text/x-python",
   "name": "python",
   "nbconvert_exporter": "python",
   "pygments_lexer": "ipython3",
   "version": "3.7.12"
  }
 },
 "nbformat": 4,
 "nbformat_minor": 5
}
