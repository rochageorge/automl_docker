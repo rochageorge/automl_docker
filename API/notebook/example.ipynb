{
 "cells": [
  {
   "cell_type": "code",
   "execution_count": 3,
   "id": "1f409e71-ed47-4b69-b042-043aa342c1cd",
   "metadata": {},
   "outputs": [],
   "source": [
    "import requests\n",
    "import time\n",
    "import json\n",
    "import pandas as pd"
   ]
  },
  {
   "cell_type": "markdown",
   "id": "8cd563bd-170b-46c9-be8e-89174aa4f700",
   "metadata": {},
   "source": [
    "## Get info\n",
    "The requests.get will return a dataframe in json format, to read it, you'll need to use pandas to transform it to a normal dataframe. Select the name of the model and send it in the json's post."
   ]
  },
  {
   "cell_type": "code",
   "execution_count": 4,
   "id": "58989e8a-690b-42a0-a462-653a529bf2f7",
   "metadata": {},
   "outputs": [],
   "source": [
    "server = 'http://0.0.0.0:49174/'"
   ]
  },
  {
   "cell_type": "code",
   "execution_count": 5,
   "id": "981890d3-2b3e-4086-bde2-cf8f0963b3be",
   "metadata": {
    "tags": []
   },
   "outputs": [
    {
     "data": {
      "text/html": [
       "<div>\n",
       "<style scoped>\n",
       "    .dataframe tbody tr th:only-of-type {\n",
       "        vertical-align: middle;\n",
       "    }\n",
       "\n",
       "    .dataframe tbody tr th {\n",
       "        vertical-align: top;\n",
       "    }\n",
       "\n",
       "    .dataframe thead th {\n",
       "        text-align: right;\n",
       "    }\n",
       "</style>\n",
       "<table border=\"1\" class=\"dataframe\">\n",
       "  <thead>\n",
       "    <tr style=\"text-align: right;\">\n",
       "      <th></th>\n",
       "      <th>id</th>\n",
       "      <th>name</th>\n",
       "      <th>date</th>\n",
       "      <th>h2o_version</th>\n",
       "      <th>seed</th>\n",
       "      <th>target</th>\n",
       "      <th>classification</th>\n",
       "      <th>max_runtime</th>\n",
       "      <th>mse</th>\n",
       "      <th>rmse</th>\n",
       "      <th>train_path</th>\n",
       "      <th>test_path</th>\n",
       "      <th>model_path</th>\n",
       "      <th>columns</th>\n",
       "      <th>varimp</th>\n",
       "      <th>metrics</th>\n",
       "    </tr>\n",
       "  </thead>\n",
       "  <tbody>\n",
       "    <tr>\n",
       "      <th>0</th>\n",
       "      <td>2022012410027</td>\n",
       "      <td>StackedEnsemble_2022012410027</td>\n",
       "      <td>2022-01-24</td>\n",
       "      <td>3.34.0.7</td>\n",
       "      <td>5</td>\n",
       "      <td>average_ticket</td>\n",
       "      <td>False</td>\n",
       "      <td>60</td>\n",
       "      <td>16.965948</td>\n",
       "      <td>4.118974</td>\n",
       "      <td>https://s3model.blob.core.windows.net/modeldat...</td>\n",
       "      <td>https://s3model.blob.core.windows.net/modeldat...</td>\n",
       "      <td>https://s3model.blob.core.windows.net/modeldat...</td>\n",
       "      <td>['price_range', 'cs_created_at', 'order_create...</td>\n",
       "      <td>{\"GLM_1\":{\"price_range\":0.1348103976,\"cs_creat...</td>\n",
       "      <td>{'mae': '2.0866987666775034', 'rmsle': '0.0753...</td>\n",
       "    </tr>\n",
       "    <tr>\n",
       "      <th>1</th>\n",
       "      <td>2022012410230</td>\n",
       "      <td>XGBoost_2022012410230</td>\n",
       "      <td>2022-01-24</td>\n",
       "      <td>3.34.0.7</td>\n",
       "      <td>2</td>\n",
       "      <td>active</td>\n",
       "      <td>True</td>\n",
       "      <td>60</td>\n",
       "      <td>0.186141</td>\n",
       "      <td>0.431440</td>\n",
       "      <td>https://s3model.blob.core.windows.net/modeldat...</td>\n",
       "      <td>https://s3model.blob.core.windows.net/modeldat...</td>\n",
       "      <td>https://s3model.blob.core.windows.net/modeldat...</td>\n",
       "      <td>['order_created_at', 'cs_created_at', 'custome...</td>\n",
       "      <td>{\"XGBoost_1\":{\"order_created_at\":0.0,\"cs_creat...</td>\n",
       "      <td>{'accuracy': '[0.08786749839782715, 0.99710217...</td>\n",
       "    </tr>\n",
       "  </tbody>\n",
       "</table>\n",
       "</div>"
      ],
      "text/plain": [
       "              id                           name       date h2o_version  seed  \\\n",
       "0  2022012410027  StackedEnsemble_2022012410027 2022-01-24    3.34.0.7     5   \n",
       "1  2022012410230          XGBoost_2022012410230 2022-01-24    3.34.0.7     2   \n",
       "\n",
       "           target  classification  max_runtime        mse      rmse  \\\n",
       "0  average_ticket           False           60  16.965948  4.118974   \n",
       "1          active            True           60   0.186141  0.431440   \n",
       "\n",
       "                                          train_path  \\\n",
       "0  https://s3model.blob.core.windows.net/modeldat...   \n",
       "1  https://s3model.blob.core.windows.net/modeldat...   \n",
       "\n",
       "                                           test_path  \\\n",
       "0  https://s3model.blob.core.windows.net/modeldat...   \n",
       "1  https://s3model.blob.core.windows.net/modeldat...   \n",
       "\n",
       "                                          model_path  \\\n",
       "0  https://s3model.blob.core.windows.net/modeldat...   \n",
       "1  https://s3model.blob.core.windows.net/modeldat...   \n",
       "\n",
       "                                             columns  \\\n",
       "0  ['price_range', 'cs_created_at', 'order_create...   \n",
       "1  ['order_created_at', 'cs_created_at', 'custome...   \n",
       "\n",
       "                                              varimp  \\\n",
       "0  {\"GLM_1\":{\"price_range\":0.1348103976,\"cs_creat...   \n",
       "1  {\"XGBoost_1\":{\"order_created_at\":0.0,\"cs_creat...   \n",
       "\n",
       "                                             metrics  \n",
       "0  {'mae': '2.0866987666775034', 'rmsle': '0.0753...  \n",
       "1  {'accuracy': '[0.08786749839782715, 0.99710217...  "
      ]
     },
     "execution_count": 5,
     "metadata": {},
     "output_type": "execute_result"
    }
   ],
   "source": [
    "info = pd.read_json(requests.get(server).content)\n",
    "info"
   ]
  },
  {
   "cell_type": "code",
   "execution_count": 36,
   "id": "37efb760-1733-4297-bc61-6e66ba40964b",
   "metadata": {},
   "outputs": [
    {
     "data": {
      "text/plain": [
       "('StackedEnsemble_2022012410027',\n",
       " 'https://s3model.blob.core.windows.net/modeldata/train_2022012410027.csv')"
      ]
     },
     "execution_count": 36,
     "metadata": {},
     "output_type": "execute_result"
    }
   ],
   "source": [
    "idx = 0\n",
    "info.name[line], info.test_path[idx]"
   ]
  },
  {
   "cell_type": "markdown",
   "id": "9f416527-7f1e-4e66-b6ff-a9b1ba080a6e",
   "metadata": {},
   "source": [
    "## Preparing\n",
    "At the cell bellow, we load the csv file, then drop the column 'unamed: 0' and transform the dataframe to json"
   ]
  },
  {
   "cell_type": "code",
   "execution_count": 37,
   "id": "a3079c7e-9578-4482-986a-b4d3d89d1bb9",
   "metadata": {},
   "outputs": [],
   "source": [
    "df = pd.read_csv(info.test_path[idx])\n",
    "if df.columns[0] == 'Unnamed: 0':\n",
    "        df = df.drop(df.columns[0], axis=1)\n",
    "jdf = df.to_json()"
   ]
  },
  {
   "cell_type": "markdown",
   "id": "104d43fd-cd38-4595-ad6e-326ad270c0e9",
   "metadata": {},
   "source": [
    "## Post model's name and json dataframe\n",
    "After selecting the name of the model and converting the dataframe into a json file, you can post it to receive the predictions."
   ]
  },
  {
   "cell_type": "code",
   "execution_count": 38,
   "id": "353212c3-c675-4446-a97b-796632b1516a",
   "metadata": {},
   "outputs": [],
   "source": [
    "data = {\n",
    "    'name': info.name[0], \n",
    "    'json_df': jdf\n",
    "}"
   ]
  },
  {
   "cell_type": "code",
   "execution_count": 30,
   "id": "e0f53d7e-75c7-4c51-b799-167b94914bfc",
   "metadata": {},
   "outputs": [
    {
     "name": "stdout",
     "output_type": "stream",
     "text": [
      "Tempo: 66.75 s\n",
      "\n"
     ]
    }
   ],
   "source": [
    "s = time.time()\n",
    "try:\n",
    "    r = requests.post(server, data=data).content\n",
    "    prediction = pd.read_json(r)\n",
    "    \n",
    "    e = time.time()\n",
    "    print(f'Tempo: {round(e-s,2)} s\\n')\n",
    "    \n",
    "except Exception as erro:\n",
    "    e = erro\n",
    "    print(erro)"
   ]
  },
  {
   "cell_type": "code",
   "execution_count": 34,
   "id": "10f58da1-bb0f-4f56-bb9d-813ca14a888b",
   "metadata": {},
   "outputs": [
    {
     "data": {
      "text/html": [
       "<div>\n",
       "<style scoped>\n",
       "    .dataframe tbody tr th:only-of-type {\n",
       "        vertical-align: middle;\n",
       "    }\n",
       "\n",
       "    .dataframe tbody tr th {\n",
       "        vertical-align: top;\n",
       "    }\n",
       "\n",
       "    .dataframe thead th {\n",
       "        text-align: right;\n",
       "    }\n",
       "</style>\n",
       "<table border=\"1\" class=\"dataframe\">\n",
       "  <thead>\n",
       "    <tr style=\"text-align: right;\">\n",
       "      <th></th>\n",
       "      <th>predict</th>\n",
       "    </tr>\n",
       "  </thead>\n",
       "  <tbody>\n",
       "    <tr>\n",
       "      <th>0</th>\n",
       "      <td>37.733673</td>\n",
       "    </tr>\n",
       "    <tr>\n",
       "      <th>1</th>\n",
       "      <td>37.733673</td>\n",
       "    </tr>\n",
       "    <tr>\n",
       "      <th>10</th>\n",
       "      <td>60.880897</td>\n",
       "    </tr>\n",
       "    <tr>\n",
       "      <th>100</th>\n",
       "      <td>29.537275</td>\n",
       "    </tr>\n",
       "    <tr>\n",
       "      <th>1000</th>\n",
       "      <td>59.840357</td>\n",
       "    </tr>\n",
       "    <tr>\n",
       "      <th>...</th>\n",
       "      <td>...</td>\n",
       "    </tr>\n",
       "    <tr>\n",
       "      <th>9995</th>\n",
       "      <td>49.329496</td>\n",
       "    </tr>\n",
       "    <tr>\n",
       "      <th>9996</th>\n",
       "      <td>29.654942</td>\n",
       "    </tr>\n",
       "    <tr>\n",
       "      <th>9997</th>\n",
       "      <td>66.584203</td>\n",
       "    </tr>\n",
       "    <tr>\n",
       "      <th>9998</th>\n",
       "      <td>66.584203</td>\n",
       "    </tr>\n",
       "    <tr>\n",
       "      <th>9999</th>\n",
       "      <td>59.649552</td>\n",
       "    </tr>\n",
       "  </tbody>\n",
       "</table>\n",
       "<p>32279 rows × 1 columns</p>\n",
       "</div>"
      ],
      "text/plain": [
       "        predict\n",
       "0     37.733673\n",
       "1     37.733673\n",
       "10    60.880897\n",
       "100   29.537275\n",
       "1000  59.840357\n",
       "...         ...\n",
       "9995  49.329496\n",
       "9996  29.654942\n",
       "9997  66.584203\n",
       "9998  66.584203\n",
       "9999  59.649552\n",
       "\n",
       "[32279 rows x 1 columns]"
      ]
     },
     "execution_count": 34,
     "metadata": {},
     "output_type": "execute_result"
    }
   ],
   "source": [
    "prediction"
   ]
  },
  {
   "cell_type": "code",
   "execution_count": null,
   "id": "431de492-1324-41d6-a2ba-a288849f8bea",
   "metadata": {},
   "outputs": [],
   "source": []
  },
  {
   "cell_type": "code",
   "execution_count": null,
   "id": "89e8f34a-c12a-4dfa-be1f-9b73373c662f",
   "metadata": {},
   "outputs": [],
   "source": []
  }
 ],
 "metadata": {
  "kernelspec": {
   "display_name": "Python 3 (ipykernel)",
   "language": "python",
   "name": "python3"
  },
  "language_info": {
   "codemirror_mode": {
    "name": "ipython",
    "version": 3
   },
   "file_extension": ".py",
   "mimetype": "text/x-python",
   "name": "python",
   "nbconvert_exporter": "python",
   "pygments_lexer": "ipython3",
   "version": "3.7.12"
  }
 },
 "nbformat": 4,
 "nbformat_minor": 5
}
